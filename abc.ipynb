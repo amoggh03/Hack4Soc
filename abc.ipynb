{
 "cells": [
  {
   "cell_type": "code",
   "execution_count": 15,
   "metadata": {},
   "outputs": [
    {
     "name": "stdout",
     "output_type": "stream",
     "text": [
      "<Element {http://www.opengis.net/kml/2.2}kml at 0x1ad52610c00>\n"
     ]
    }
   ],
   "source": [
    "from lxml import etree\n",
    "\n",
    "# Parse KML file\n",
    "tree = etree.parse('bengaluru_fire_stations.kml')\n",
    "root = tree.getroot()\n",
    "print(root)\n"
   ]
  },
  {
   "cell_type": "code",
   "execution_count": 16,
   "metadata": {},
   "outputs": [
    {
     "ename": "SyntaxError",
     "evalue": "invalid syntax (2451149039.py, line 1)",
     "output_type": "error",
     "traceback": [
      "\u001b[1;36m  Cell \u001b[1;32mIn[16], line 1\u001b[1;36m\u001b[0m\n\u001b[1;33m    pip install folium lxml\u001b[0m\n\u001b[1;37m        ^\u001b[0m\n\u001b[1;31mSyntaxError\u001b[0m\u001b[1;31m:\u001b[0m invalid syntax\n"
     ]
    }
   ],
   "source": [
    "pip install folium lxml\n",
    "\n"
   ]
  },
  {
   "cell_type": "code",
   "execution_count": null,
   "metadata": {},
   "outputs": [],
   "source": [
    "import folium\n",
    "from lxml import etree\n",
    "\n",
    "# Parse KML file\n",
    "kml_file = 'bengaluru_fire_stations.kml'\n",
    "tree = etree.parse(kml_file)\n",
    "root = tree.getroot()\n",
    "\n",
    "# Create a Folium map centered around Bengaluru\n",
    "map_center = [12.971598, 77.594562]  # Bengaluru coordinates\n",
    "my_map = folium.Map(location=map_center, zoom_start=12)\n",
    "\n",
    "# Extract and add fire station locations to the map\n",
    "for placemark in root.findall(\".//{http://www.opengis.net/kml/2.2}Placemark\"):\n",
    "    coords_str = placemark.find(\".//{http://www.opengis.net/kml/2.2}coordinates\").text\n",
    "    lon, lat = map(float, coords_str.split(','))\n",
    "\n",
    "    # Check if FIRE_STAName element exists\n",
    "    fire_station_name_elem = placemark.find('.//{http://www.opengis.net/kml/2.2}FIRE_STAName')\n",
    "    if fire_station_name_elem is not None:\n",
    "        fire_station_name = fire_station_name_elem.text\n",
    "    else:\n",
    "        fire_station_name = \"Unknown Fire Station\"\n",
    "\n",
    "    # Add a marker for each fire station\n",
    "    folium.Marker(\n",
    "        location=[lat, lon],\n",
    "        popup=f\"Fire Station: {fire_station_name}\"\n",
    "    ).add_to(my_map)\n",
    "\n",
    "# Save the map as an HTML file\n",
    "my_map.save('fire_stations_map.html')\n"
   ]
  },
  {
   "cell_type": "code",
   "execution_count": null,
   "metadata": {},
   "outputs": [
    {
     "name": "stdout",
     "output_type": "stream",
     "text": [
      "Map saved to uphc_map.html\n"
     ]
    }
   ],
   "source": [
    "import folium\n",
    "from lxml import etree\n",
    "\n",
    "# Read KML from the file as bytes\n",
    "kml_file_path = \"doctor.kml\"\n",
    "with open(kml_file_path, \"rb\") as kml_file:\n",
    "    kml_code_bytes = kml_file.read()\n",
    "\n",
    "# Parse KML using lxml etree\n",
    "root = etree.fromstring(kml_code_bytes)\n",
    "\n",
    "# Create a Folium map\n",
    "mymap = folium.Map(location=[0, 0], zoom_start=10)\n",
    "\n",
    "# Iterate through placemarks and add markers to the map\n",
    "for placemark in root.xpath('//Placemark'):\n",
    "    coordinates_str = placemark.findtext('.//Point/coordinates')\n",
    "    if coordinates_str:\n",
    "        coordinates = [float(coord) for coord in coordinates_str.split(',')[:2][::-1]]\n",
    "        popup_text = f\"\"\"\n",
    "        <b>Contact No:</b> {placemark.findtext('.//SimpleData[@name=\"Contact_No\"]')}\n",
    "        <br><b>NODAL OFFI:</b> {placemark.findtext('.//SimpleData[@name=\"NODAL_OFFI\"]')}\n",
    "        <br><b>Zone:</b> {placemark.findtext('.//SimpleData[@name=\"Zone\"]')}\n",
    "        <br><b>Ward:</b> {placemark.findtext('.//SimpleData[@name=\"ward\"]')}\n",
    "        <br><b>AC:</b> {placemark.findtext('.//SimpleData[@name=\"ac\"]')}\n",
    "        <br><b>LS:</b> {placemark.findtext('.//SimpleData[@name=\"ls\"]')}\n",
    "        \"\"\"\n",
    "\n",
    "        folium.Marker(location=coordinates, popup=folium.Popup(html=popup_text, max_width=300)).add_to(mymap)\n",
    "\n",
    "# Save the map to an HTML file\n",
    "output_html_path = \"uphc_map.html\"\n",
    "mymap.save(output_html_path)\n",
    "print(f\"Map saved to {output_html_path}\")\n"
   ]
  },
  {
   "cell_type": "code",
   "execution_count": null,
   "metadata": {},
   "outputs": [
    {
     "name": "stdout",
     "output_type": "stream",
     "text": [
      "Map saved to doctors_map.html\n"
     ]
    }
   ],
   "source": [
    "import folium\n",
    "from lxml import etree\n",
    "\n",
    "# Load KML file\n",
    "kml_file_path = 'doctor.kml'\n",
    "tree = etree.parse(kml_file_path)\n",
    "\n",
    "# Create a Folium Map centered around Bangalore\n",
    "bangalore_coords = [12.971598, 77.594562]  # Bangalore coordinates\n",
    "map_bangalore = folium.Map(location=bangalore_coords, zoom_start=12)\n",
    "\n",
    "# Iterate through Placemark elements in KML\n",
    "placemarks = tree.xpath('//kml:Placemark', namespaces={'kml': 'http://www.opengis.net/kml/2.2'})\n",
    "for placemark in placemarks:\n",
    "    # Extract information from Placemark\n",
    "    coordinates = placemark.findtext('.//kml:coordinates', namespaces={'kml': 'http://www.opengis.net/kml/2.2'})\n",
    "    name = placemark.findtext('.//kml:SimpleData[@name=\"NODAL_OFFI\"]', namespaces={'kml': 'http://www.opengis.net/kml/2.2'})\n",
    "\n",
    "    # Extract latitude and longitude\n",
    "    longitude, latitude, _ = map(float, coordinates.split(','))\n",
    "\n",
    "    # Create marker and popup for each doctor\n",
    "    popup_content = f'<b>Doctor:</b> {name}<br><b>Coordinates:</b> {latitude}, {longitude}'\n",
    "    folium.Marker(location=[latitude, longitude], popup=popup_content).add_to(map_bangalore)\n",
    "\n",
    "# Save the map as an HTML file\n",
    "html_file_path = 'doctors_map.html'\n",
    "map_bangalore.save(html_file_path)\n",
    "\n",
    "print(f\"Map saved to {html_file_path}\")\n"
   ]
  },
  {
   "cell_type": "code",
   "execution_count": 25,
   "metadata": {},
   "outputs": [
    {
     "name": "stdout",
     "output_type": "stream",
     "text": [
      "HTML file saved to: output_map_with_coordinates.html\n"
     ]
    }
   ],
   "source": [
    "import folium\n",
    "from lxml import etree\n",
    "\n",
    "# Load KML file\n",
    "kml_file_path = \"fire.kml\"\n",
    "with open(kml_file_path, 'rb') as file:\n",
    "    kml_data = file.read()\n",
    "\n",
    "# Define the namespace\n",
    "ns = {\"kml\": \"http://www.opengis.net/kml/2.2\"}\n",
    "\n",
    "# Parse KML data using lxml\n",
    "root = etree.fromstring(kml_data)\n",
    "\n",
    "# Find the first Placemark with Point and coordinates\n",
    "placemarks_with_coordinates = root.xpath('//kml:Placemark[kml:Point/kml:coordinates]', namespaces=ns)\n",
    "if placemarks_with_coordinates:\n",
    "    placemark_with_point = placemarks_with_coordinates[0].xpath('.//kml:Point/kml:coordinates', namespaces=ns)[0].text\n",
    "    coordinates = placemark_with_point.split(',')\n",
    "    map_center = [float(coordinates[1]), float(coordinates[0])]\n",
    "\n",
    "    # Create a folium map centered on the first placemark\n",
    "    mymap = folium.Map(location=map_center, zoom_start=12)\n",
    "\n",
    "    # Iterate through placemarks and add markers to the map\n",
    "    for placemark in placemarks_with_coordinates:\n",
    "        coordinates = placemark.xpath('.//kml:Point/kml:coordinates/text()', namespaces=ns)[0].split(',')\n",
    "        lat, lon = float(coordinates[1]), float(coordinates[0])\n",
    "\n",
    "        fire_station_name = placemark.xpath('.//kml:SimpleData[@name=\"FIRE_STAName\"]/text()', namespaces=ns)[0]\n",
    "\n",
    "        # Create a purple marker instead of the default blue marker\n",
    "        marker = folium.Marker(\n",
    "            location=[lat, lon],\n",
    "            popup=f\"{fire_station_name}<br>Coordinates: {lat}, {lon}\",\n",
    "            icon=folium.Icon(color='purple')\n",
    "        )\n",
    "        mymap.add_child(marker)\n",
    "\n",
    "    # Save the map to an HTML file\n",
    "    html_file_path = \"output_map_with_coordinates.html\"\n",
    "    mymap.save(html_file_path)\n",
    "\n",
    "    print(f\"HTML file saved to: {html_file_path}\")\n",
    "else:\n",
    "    print(\"No Placemark with Point and coordinates found in the KML file.\")\n"
   ]
  },
  {
   "cell_type": "code",
   "execution_count": 26,
   "metadata": {},
   "outputs": [
    {
     "name": "stdout",
     "output_type": "stream",
     "text": [
      "Combined HTML file saved to: combined_map.html\n"
     ]
    }
   ],
   "source": [
    "import folium\n",
    "from lxml import etree\n",
    "\n",
    "def create_marker(popup_content, latitude, longitude, marker_color):\n",
    "    return folium.Marker(\n",
    "        location=[latitude, longitude],\n",
    "        popup=popup_content,\n",
    "        icon=folium.Icon(color=marker_color)\n",
    "    )\n",
    "\n",
    "# Load doctor KML file\n",
    "doctor_kml_file_path = 'doctor.kml'\n",
    "tree_doctor = etree.parse(doctor_kml_file_path)\n",
    "\n",
    "# Create a Folium Map centered around Bangalore\n",
    "bangalore_coords = [12.971598, 77.594562]  # Bangalore coordinates\n",
    "map_bangalore = folium.Map(location=bangalore_coords, zoom_start=12)\n",
    "\n",
    "# Iterate through doctor Placemark elements in KML\n",
    "placemarks_doctor = tree_doctor.xpath('//kml:Placemark', namespaces={'kml': 'http://www.opengis.net/kml/2.2'})\n",
    "for placemark in placemarks_doctor:\n",
    "    # Extract information from Placemark\n",
    "    coordinates = placemark.findtext('.//kml:coordinates', namespaces={'kml': 'http://www.opengis.net/kml/2.2'})\n",
    "    name = placemark.findtext('.//kml:SimpleData[@name=\"NODAL_OFFI\"]', namespaces={'kml': 'http://www.opengis.net/kml/2.2'})\n",
    "\n",
    "    # Extract latitude and longitude\n",
    "    longitude, latitude, _ = map(float, coordinates.split(','))\n",
    "\n",
    "    # Create marker and popup for each doctor\n",
    "    popup_content = f'<b>Doctor:</b> {name}<br><b>Coordinates:</b> {latitude}, {longitude}'\n",
    "    marker = create_marker(popup_content, latitude, longitude, 'blue')\n",
    "    map_bangalore.add_child(marker)\n",
    "\n",
    "# Load fire station KML file\n",
    "fire_kml_file_path = 'fire.kml'\n",
    "with open(fire_kml_file_path, 'rb') as file:\n",
    "    kml_data = file.read()\n",
    "\n",
    "# Parse KML data using lxml\n",
    "root_fire = etree.fromstring(kml_data)\n",
    "\n",
    "# Find the fire station Placemarks with Point and coordinates\n",
    "placemarks_with_coordinates_fire = root_fire.xpath('//kml:Placemark[kml:Point/kml:coordinates]', namespaces={'kml': 'http://www.opengis.net/kml/2.2'})\n",
    "if placemarks_with_coordinates_fire:\n",
    "    for placemark in placemarks_with_coordinates_fire:\n",
    "        coordinates = placemark.xpath('.//kml:Point/kml:coordinates/text()', namespaces={'kml': 'http://www.opengis.net/kml/2.2'})[0].split(',')\n",
    "        lat, lon = float(coordinates[1]), float(coordinates[0])\n",
    "\n",
    "        fire_station_name = placemark.xpath('.//kml:SimpleData[@name=\"FIRE_STAName\"]/text()', namespaces={'kml': 'http://www.opengis.net/kml/2.2'})[0]\n",
    "\n",
    "        # Create a marker with purple color for fire station\n",
    "        popup_content_fire = f\"<b>Fire Station:</b> {fire_station_name}<br><b>Coordinates:</b> {lat}, {lon}\"\n",
    "        marker_fire = create_marker(popup_content_fire, lat, lon, 'purple')\n",
    "        map_bangalore.add_child(marker_fire)\n",
    "\n",
    "    # Save the map to an HTML file\n",
    "    html_file_path_combined = 'combined_map.html'\n",
    "    map_bangalore.save(html_file_path_combined)\n",
    "\n",
    "    print(f\"Combined HTML file saved to: {html_file_path_combined}\")\n",
    "else:\n",
    "    print(\"No Placemark with Point and coordinates found in the Fire Station KML file.\")\n"
   ]
  },
  {
   "cell_type": "code",
   "execution_count": 27,
   "metadata": {},
   "outputs": [
    {
     "name": "stdout",
     "output_type": "stream",
     "text": [
      "Combined HTML file saved to: combined_map.html\n"
     ]
    }
   ],
   "source": [
    "import folium\n",
    "from lxml import etree\n",
    "\n",
    "def create_marker(popup_content, latitude, longitude, marker_color):\n",
    "    return folium.Marker(\n",
    "        location=[latitude, longitude],\n",
    "        popup=popup_content,\n",
    "        icon=folium.Icon(color=marker_color)\n",
    "    )\n",
    "\n",
    "# Load doctor KML file\n",
    "doctor_kml_file_path = 'doctor.kml'\n",
    "tree_doctor = etree.parse(doctor_kml_file_path)\n",
    "\n",
    "# Create a Folium Map centered around Bangalore\n",
    "bangalore_coords = [12.971598, 77.594562]  # Bangalore coordinates\n",
    "map_bangalore = folium.Map(location=bangalore_coords, zoom_start=12)\n",
    "\n",
    "# Iterate through doctor Placemark elements in KML\n",
    "placemarks_doctor = tree_doctor.xpath('//kml:Placemark', namespaces={'kml': 'http://www.opengis.net/kml/2.2'})\n",
    "for placemark in placemarks_doctor:\n",
    "    # Extract information from Placemark\n",
    "    coordinates = placemark.findtext('.//kml:coordinates', namespaces={'kml': 'http://www.opengis.net/kml/2.2'})\n",
    "    name = placemark.findtext('.//kml:SimpleData[@name=\"NODAL_OFFI\"]', namespaces={'kml': 'http://www.opengis.net/kml/2.2'})\n",
    "    contact_number = placemark.findtext('.//kml:SimpleData[@name=\"Contact_No\"]', namespaces={'kml': 'http://www.opengis.net/kml/2.2'})\n",
    "\n",
    "    # Extract latitude and longitude\n",
    "    longitude, latitude, _ = map(float, coordinates.split(','))\n",
    "\n",
    "    # Create marker and popup for each doctor\n",
    "    popup_content = f'<b>Doctor:</b> {name}<br><b>Contact Number:</b> {contact_number}<br><b>Coordinates:</b> {latitude}, {longitude}'\n",
    "    marker = create_marker(popup_content, latitude, longitude, 'blue')\n",
    "    map_bangalore.add_child(marker)\n",
    "\n",
    "# Load fire station KML file\n",
    "fire_kml_file_path = 'fire.kml'\n",
    "with open(fire_kml_file_path, 'rb') as file:\n",
    "    kml_data = file.read()\n",
    "\n",
    "# Parse KML data using lxml\n",
    "root_fire = etree.fromstring(kml_data)\n",
    "\n",
    "# Find the fire station Placemarks with Point and coordinates\n",
    "placemarks_with_coordinates_fire = root_fire.xpath('//kml:Placemark[kml:Point/kml:coordinates]', namespaces={'kml': 'http://www.opengis.net/kml/2.2'})\n",
    "if placemarks_with_coordinates_fire:\n",
    "    for placemark in placemarks_with_coordinates_fire:\n",
    "        coordinates = placemark.xpath('.//kml:Point/kml:coordinates/text()', namespaces={'kml': 'http://www.opengis.net/kml/2.2'})[0].split(',')\n",
    "        lat, lon = float(coordinates[1]), float(coordinates[0])\n",
    "\n",
    "        fire_station_name = placemark.xpath('.//kml:SimpleData[@name=\"FIRE_STAName\"]/text()', namespaces={'kml': 'http://www.opengis.net/kml/2.2'})[0]\n",
    "\n",
    "        # Create a marker with purple color for fire station\n",
    "        popup_content_fire = f\"<b>Fire Station:</b> {fire_station_name}<br><b>Coordinates:</b> {lat}, {lon}\"\n",
    "        marker_fire = create_marker(popup_content_fire, lat, lon, 'purple')\n",
    "        map_bangalore.add_child(marker_fire)\n",
    "\n",
    "    # Save the map to an HTML file\n",
    "    html_file_path_combined = 'combined_map.html'\n",
    "    map_bangalore.save(html_file_path_combined)\n",
    "\n",
    "    print(f\"Combined HTML file saved to: {html_file_path_combined}\")\n",
    "else:\n",
    "    print(\"No Placemark with Point and coordinates found in the Fire Station KML file.\")\n"
   ]
  },
  {
   "cell_type": "code",
   "execution_count": 33,
   "metadata": {},
   "outputs": [
    {
     "name": "stdout",
     "output_type": "stream",
     "text": [
      "CSV file created successfully.\n"
     ]
    }
   ],
   "source": [
    "from bs4 import BeautifulSoup\n",
    "import csv\n",
    "\n",
    "# Read the content of the KML file\n",
    "with open(\"fire.kml\", \"r\", encoding=\"utf-8\") as kml_file:\n",
    "    kml_content = kml_file.read()\n",
    "\n",
    "# Parse the KML content using BeautifulSoup\n",
    "soup = BeautifulSoup(kml_content, \"xml\")\n",
    "\n",
    "# Open a CSV file for writing\n",
    "with open(\"fire_stations.csv\", mode=\"w\", newline=\"\", encoding=\"utf-8\") as csv_file:\n",
    "    # Create a CSV writer object\n",
    "    csv_writer = csv.writer(csv_file)\n",
    "\n",
    "    # Write the header row\n",
    "    csv_writer.writerow([\"Fire station\", \"Coordinates\"])\n",
    "\n",
    "    # Find all Placemark elements\n",
    "    placemarks = soup.find_all(\"Placemark\")\n",
    "\n",
    "    # Iterate over each Placemark\n",
    "    for placemark in placemarks:\n",
    "        # Extract information from SimpleData and Point elements\n",
    "        fire_station_name = placemark.find(\"SimpleData\", {\"name\": \"FIRE_STAName\"}).text\n",
    "        coordinates = placemark.find(\"coordinates\").text\n",
    "\n",
    "        # Write the information to the CSV file\n",
    "        csv_writer.writerow([fire_station_name, coordinates])\n",
    "\n",
    "print(\"CSV file created successfully.\")\n"
   ]
  },
  {
   "cell_type": "code",
   "execution_count": null,
   "metadata": {},
   "outputs": [],
   "source": []
  }
 ],
 "metadata": {
  "kernelspec": {
   "display_name": "Python 3",
   "language": "python",
   "name": "python3"
  },
  "language_info": {
   "codemirror_mode": {
    "name": "ipython",
    "version": 3
   },
   "file_extension": ".py",
   "mimetype": "text/x-python",
   "name": "python",
   "nbconvert_exporter": "python",
   "pygments_lexer": "ipython3",
   "version": "3.10.11"
  }
 },
 "nbformat": 4,
 "nbformat_minor": 2
}
